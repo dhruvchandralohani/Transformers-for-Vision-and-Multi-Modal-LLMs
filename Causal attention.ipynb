{
 "cells": [
  {
   "cell_type": "code",
   "execution_count": 1,
   "id": "92eb9baa",
   "metadata": {},
   "outputs": [],
   "source": [
    "import torch\n",
    "\n",
    "inputs = torch.tensor(\n",
    "    [\n",
    "        [0.72, 0.45, 0.31],# 'Dream' (x^1)\n",
    "        [0.75, 0.20, 0.55],# 'big'   (x^2)\n",
    "        [0.30, 0.80, 0.40],# 'and'   (x^3)\n",
    "        [0.85, 0.35, 0.60],# 'work'  (x^4)\n",
    "        [0.55, 0.15, 0.75],# 'for'   (x^5)\n",
    "        [0.25, 0.20, 0.85],# 'it'    (x^6)\n",
    "    ]\n",
    ")\n",
    "\n",
    "# Corresponding words\n",
    "words = ['Dream', 'big', 'and', 'work', 'for', 'it']"
   ]
  },
  {
   "cell_type": "code",
   "execution_count": null,
   "id": "5ad936c5",
   "metadata": {},
   "outputs": [],
   "source": [
    "import torch.nn as nn\n",
    "\n",
    "class CausalAttention(nn.Module):\n",
    "    def __init__(self, d_in, d_out, context_length, dropout, qkv_bias=False):\n",
    "        super().__init__()\n",
    "        self.d_out = d_out\n",
    "        self.W_query = nn.Linear(d_in, d_out, bias=qkv_bias)\n",
    "        self.W_key = nn.Linear(d_in, d_out, bias=qkv_bias)\n",
    "        self.W_value = nn.Linear(d_in, d_out, bias=qkv_bias)\n",
    "        self.dropout = nn.Dropout(dropout)\n",
    "        self.register_buffer('mask', torch.triu(torch.ones(context_length, context_length), diagonal=1))\n",
    "    \n",
    "    def forward(self, x):\n",
    "        b, num_tokens, d_in = x.shape\n",
    "        queries = self.W_query(x)\n",
    "        keys = self.W_key(x)\n",
    "        values = self.W_value(x)\n",
    "        attention_scores = queries @ keys.transpose(1, 2)\n",
    "        attention_scores.masked_fill_(self.mask.bool()[:num_tokens, :num_tokens], -torch.inf)\n",
    "        attention_weights = torch.softmax(attention_scores / keys.shape[-1]**0.5, dim=-1)\n",
    "        attention_weights = self.dropout(attention_weights)\n",
    "        context_vector = attention_weights @ values\n",
    "        return context_vector"
   ]
  },
  {
   "cell_type": "code",
   "execution_count": 3,
   "id": "09a6919d",
   "metadata": {},
   "outputs": [],
   "source": [
    "class MultiHeadAttentionWrapper(nn.Module):\n",
    "    def __init__(self, d_in, d_out, context_length, dropout, num_heads, qkv_bias=False):\n",
    "        super().__init__()\n",
    "        self.heads = nn.ModuleList(\n",
    "            [CausalAttention(d_in, d_out, context_length, dropout, qkv_bias) for _ in range(num_heads)]\n",
    "        )\n",
    "    \n",
    "    def forward(self, x):\n",
    "        return torch.cat([head(x) for head in self.heads], dim=-1)"
   ]
  },
  {
   "cell_type": "code",
   "execution_count": 4,
   "id": "7650d2d5",
   "metadata": {},
   "outputs": [
    {
     "name": "stdout",
     "output_type": "stream",
     "text": [
      "3 2\n"
     ]
    }
   ],
   "source": [
    "d_in = inputs.shape[-1]\n",
    "d_out = 2\n",
    "print(d_in, d_out)"
   ]
  },
  {
   "cell_type": "code",
   "execution_count": 5,
   "id": "b9a3fab2",
   "metadata": {},
   "outputs": [
    {
     "name": "stdout",
     "output_type": "stream",
     "text": [
      "torch.Size([2, 6, 3])\n"
     ]
    }
   ],
   "source": [
    "batch = torch.stack((inputs,inputs), dim=0)\n",
    "print(batch.shape)"
   ]
  },
  {
   "cell_type": "code",
   "execution_count": 6,
   "id": "2bd8b2f6",
   "metadata": {},
   "outputs": [],
   "source": [
    "torch.manual_seed(123)\n",
    "context_length = batch.shape[1]\n",
    "mha = MultiHeadAttentionWrapper(d_in, d_out, context_length, 0.0, num_heads=2)\n"
   ]
  },
  {
   "cell_type": "code",
   "execution_count": 7,
   "id": "a39d37c3",
   "metadata": {},
   "outputs": [
    {
     "name": "stdout",
     "output_type": "stream",
     "text": [
      "Context Vectors\n",
      "tensor([[[-0.5762, -0.1627,  0.5569,  0.3635],\n",
      "         [-0.5650, -0.0630,  0.5599,  0.3006],\n",
      "         [-0.5472, -0.1226,  0.5285,  0.3435],\n",
      "         [-0.5787, -0.0943,  0.5621,  0.3388],\n",
      "         [-0.5593, -0.0436,  0.5509,  0.3046],\n",
      "         [-0.5287, -0.0033,  0.5277,  0.2743]],\n",
      "\n",
      "        [[-0.5762, -0.1627,  0.5569,  0.3635],\n",
      "         [-0.5650, -0.0630,  0.5599,  0.3006],\n",
      "         [-0.5472, -0.1226,  0.5285,  0.3435],\n",
      "         [-0.5787, -0.0943,  0.5621,  0.3388],\n",
      "         [-0.5593, -0.0436,  0.5509,  0.3046],\n",
      "         [-0.5287, -0.0033,  0.5277,  0.2743]]], grad_fn=<CatBackward0>)\n",
      "torch.Size([2, 6, 4])\n"
     ]
    }
   ],
   "source": [
    "context_vectors = mha(batch)\n",
    "print('Context Vectors')\n",
    "print(context_vectors)\n",
    "print(context_vectors.shape)"
   ]
  }
 ],
 "metadata": {
  "kernelspec": {
   "display_name": "venv (3.13.7)",
   "language": "python",
   "name": "python3"
  },
  "language_info": {
   "codemirror_mode": {
    "name": "ipython",
    "version": 3
   },
   "file_extension": ".py",
   "mimetype": "text/x-python",
   "name": "python",
   "nbconvert_exporter": "python",
   "pygments_lexer": "ipython3",
   "version": "3.13.7"
  }
 },
 "nbformat": 4,
 "nbformat_minor": 5
}
